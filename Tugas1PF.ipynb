{
  "nbformat": 4,
  "nbformat_minor": 0,
  "metadata": {
    "colab": {
      "provenance": [],
      "authorship_tag": "ABX9TyNjibwEXjD9LgQaAePg14Tu",
      "include_colab_link": true
    },
    "kernelspec": {
      "name": "python3",
      "display_name": "Python 3"
    },
    "language_info": {
      "name": "python"
    }
  },
  "cells": [
    {
      "cell_type": "markdown",
      "metadata": {
        "id": "view-in-github",
        "colab_type": "text"
      },
      "source": [
        "<a href=\"https://colab.research.google.com/github/MuhammadDaffa20/CodelabSD4/blob/master/Tugas1PF.ipynb\" target=\"_parent\"><img src=\"https://colab.research.google.com/assets/colab-badge.svg\" alt=\"Open In Colab\"/></a>"
      ]
    },
    {
      "cell_type": "code",
      "execution_count": 3,
      "metadata": {
        "id": "hBjw_VCrD-WK"
      },
      "outputs": [],
      "source": [
        "class Barang:\n",
        "    def __init__(self, nama, harga, stok):\n",
        "        self.nama = nama\n",
        "        self.harga = harga\n",
        "        self.stok = stok\n"
      ]
    },
    {
      "cell_type": "code",
      "source": [
        "class Penjual:\n",
        "    def __init__(self):\n",
        "        self.list_barang = []\n",
        "\n",
        "    # Create: Menambah barang baru\n",
        "    def tambah_barang(self, nama, harga, stok):\n",
        "        barang_baru = Barang(nama, harga, stok)\n",
        "        self.list_barang.append(barang_baru)\n",
        "        print(f\"Barang {nama} telah ditambahkan.\")\n",
        "\n",
        "    # Read: Melihat daftar barang\n",
        "    def lihat_barang(self):\n",
        "        if not self.list_barang:\n",
        "            print(\"Belum ada barang yang ditambahkan.\")\n",
        "        else:\n",
        "            for barang in self.list_barang:\n",
        "                print(f\"Nama: {barang.nama}, Harga: {barang.harga}, Stok: {barang.stok}\")\n",
        "\n",
        "    # Update: Memperbarui stok barang\n",
        "    def update_stok(self, nama, stok_baru):\n",
        "        for barang in self.list_barang:\n",
        "            if barang.nama == nama:\n",
        "                barang.stok = stok_baru\n",
        "                print(f\"Stok barang {nama} telah diperbarui menjadi {stok_baru}.\")\n",
        "                return\n",
        "        print(\"Barang tidak ditemukan.\")\n",
        "\n",
        "    # Delete: Menghapus barang\n",
        "    def hapus_barang(self, nama):\n",
        "        for barang in self.list_barang:\n",
        "            if barang.nama == nama:\n",
        "                self.list_barang.remove(barang)\n",
        "                print(f\"Barang {nama} telah dihapus.\")\n",
        "                return\n",
        "        print(\"Barang tidak ditemukan.\")\n"
      ],
      "metadata": {
        "id": "3w1CUJUWEd6P"
      },
      "execution_count": 4,
      "outputs": []
    },
    {
      "cell_type": "code",
      "source": [
        "class Pembeli:\n",
        "    def __init__(self):\n",
        "        pass\n",
        "\n",
        "    # Melihat daftar barang yang stoknya lebih dari 0\n",
        "    def lihat_barang(self, list_barang):\n",
        "        print(\"Daftar Barang Tersedia:\")\n",
        "        for barang in list_barang:\n",
        "            if barang.stok > 0:\n",
        "                print(f\"Nama: {barang.nama}, Harga: {barang.harga}, Stok: {barang.stok}\")\n",
        "\n",
        "    # Membeli barang (stok otomatis berkurang)\n",
        "    def beli_barang(self, list_barang, nama_barang):\n",
        "        for barang in list_barang:\n",
        "            if barang.nama == nama_barang and barang.stok > 0:\n",
        "                barang.stok -= 1\n",
        "                print(f\"Anda telah membeli {barang.nama}. Stok tersisa: {barang.stok}.\")\n",
        "                return\n",
        "        print(\"Barang tidak ditemukan atau stok habis.\")\n"
      ],
      "metadata": {
        "id": "F3J50hTgEg-o"
      },
      "execution_count": 5,
      "outputs": []
    },
    {
      "cell_type": "code",
      "source": [
        "def login():\n",
        "    print(\"Login sebagai:\\n1. Penjual\\n2. Pembeli\")\n",
        "    role = input(\"Pilih role (1/2): \")\n",
        "    return role\n",
        "\n",
        "def main():\n",
        "    penjual = Penjual()\n",
        "    pembeli = Pembeli()\n",
        "    logged_in = True\n",
        "\n",
        "    while logged_in:\n",
        "        role = login()\n",
        "\n",
        "        if role == '1':  # Penjual\n",
        "            print(\"\\n=== Menu Penjual ===\")\n",
        "            while True:\n",
        "                print(\"\\n1. Tambah Barang\\n2. Lihat Barang\\n3. Update Stok\\n4. Hapus Barang\\n5. Logout\")\n",
        "                pilihan = input(\"Pilih menu: \")\n",
        "\n",
        "                if pilihan == '1':  # Tambah Barang\n",
        "                    nama = input(\"Nama Barang: \")\n",
        "                    harga = int(input(\"Harga: \"))\n",
        "                    stok = int(input(\"Stok: \"))\n",
        "                    penjual.tambah_barang(nama, harga, stok)\n",
        "                elif pilihan == '2':  # Lihat Barang\n",
        "                    penjual.lihat_barang()\n",
        "                elif pilihan == '3':  # Update Stok\n",
        "                    nama = input(\"Nama Barang yang Ingin Diupdate: \")\n",
        "                    stok_baru = int(input(\"Stok Baru: \"))\n",
        "                    penjual.update_stok(nama, stok_baru)\n",
        "                elif pilihan == '4':  # Hapus Barang\n",
        "                    nama = input(\"Nama Barang yang Ingin Dihapus: \")\n",
        "                    penjual.hapus_barang(nama)\n",
        "                elif pilihan == '5':  # Logout\n",
        "                    print(\"Logout berhasil.\")\n",
        "                    break\n",
        "\n",
        "        elif role == '2':  # Pembeli\n",
        "            print(\"\\n=== Menu Pembeli ===\")\n",
        "            while True:\n",
        "                print(\"\\n1. Lihat Barang\\n2. Beli Barang\\n3. Logout\")\n",
        "                pilihan = input(\"Pilih menu: \")\n",
        "\n",
        "                if pilihan == '1':  # Lihat Barang\n",
        "                    pembeli.lihat_barang(penjual.list_barang)\n",
        "                elif pilihan == '2':  # Beli Barang\n",
        "                    nama_barang = input(\"Nama Barang yang Ingin Dibeli: \")\n",
        "                    pembeli.beli_barang(penjual.list_barang, nama_barang)\n",
        "                elif pilihan == '3':  # Logout\n",
        "                    print(\"Logout berhasil.\")\n",
        "                    break\n",
        "\n",
        "        else:\n",
        "            print(\"Pilihan tidak valid.\")\n",
        "\n",
        "        lanjutkan = input(\"Apakah ingin melanjutkan (y/n)? \")\n",
        "        if lanjutkan.lower() == 'n':\n",
        "            logged_in = False\n",
        "            print(\"Program selesai.\")\n",
        "\n",
        "main()\n"
      ],
      "metadata": {
        "colab": {
          "base_uri": "https://localhost:8080/"
        },
        "id": "TnYVT-FwEj7W",
        "outputId": "48eadf76-d828-4ecd-a5d6-e68d7a20b041"
      },
      "execution_count": null,
      "outputs": [
        {
          "metadata": {
            "tags": null
          },
          "name": "stdout",
          "output_type": "stream",
          "text": [
            "Login sebagai:\n",
            "1. Penjual\n",
            "2. Pembeli\n",
            "\n",
            "=== Menu Penjual ===\n",
            "\n",
            "1. Tambah Barang\n",
            "2. Lihat Barang\n",
            "3. Update Stok\n",
            "4. Hapus Barang\n",
            "5. Logout\n",
            "Barang Akbar telah ditambahkan.\n",
            "\n",
            "1. Tambah Barang\n",
            "2. Lihat Barang\n",
            "3. Update Stok\n",
            "4. Hapus Barang\n",
            "5. Logout\n",
            "Logout berhasil.\n",
            "Login sebagai:\n",
            "1. Penjual\n",
            "2. Pembeli\n",
            "\n",
            "=== Menu Pembeli ===\n",
            "\n",
            "1. Lihat Barang\n",
            "2. Beli Barang\n",
            "3. Logout\n",
            "Daftar Barang Tersedia:\n",
            "Nama: Akbar, Harga: 1, Stok: 1\n",
            "\n",
            "1. Lihat Barang\n",
            "2. Beli Barang\n",
            "3. Logout\n",
            "Anda telah membeli Akbar. Stok tersisa: 0.\n",
            "\n",
            "1. Lihat Barang\n",
            "2. Beli Barang\n",
            "3. Logout\n"
          ]
        }
      ]
    },
    {
      "cell_type": "code",
      "source": [],
      "metadata": {
        "id": "-PdLwYE-EnyG"
      },
      "execution_count": null,
      "outputs": []
    }
  ]
}